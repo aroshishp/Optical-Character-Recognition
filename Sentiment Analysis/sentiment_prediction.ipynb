{
 "cells": [
  {
   "cell_type": "markdown",
   "metadata": {},
   "source": [
    "### Load the Model"
   ]
  },
  {
   "cell_type": "code",
   "execution_count": 18,
   "metadata": {},
   "outputs": [],
   "source": [
    "import joblib\n",
    "\n",
    "mnb = joblib.load('sentiment_model.joblib')\n",
    "count_vectorizer = joblib.load('count_vectorizer.joblib')\n",
    "\n",
    "def predict_sentiment(text):\n",
    "    text = count_vectorizer.transform([text])\n",
    "    sentiment = mnb.predict(text)\n",
    "    return sentiment[0]"
   ]
  },
  {
   "cell_type": "markdown",
   "metadata": {},
   "source": [
    "### Predict Identified Text"
   ]
  },
  {
   "cell_type": "code",
   "execution_count": 20,
   "metadata": {},
   "outputs": [
    {
     "name": "stdout",
     "output_type": "stream",
     "text": [
      "line_0 Angry\n",
      "line_1 Angry\n",
      "line_2 Happy\n",
      "line_3 Happy\n",
      "line_4 Neutral\n",
      "line_5 Neutral\n"
     ]
    }
   ],
   "source": [
    "import pandas as pd\n",
    "identified_texts = pd.read_csv('../Text Recognition/identified_text.csv')\n",
    "\n",
    "for index in identified_texts.index:\n",
    "    sentiment = predict_sentiment(identified_texts['identified text'][index])\n",
    "    print(identified_texts['line'][index], sentiment)"
   ]
  }
 ],
 "metadata": {
  "kernelspec": {
   "display_name": "Python 3",
   "language": "python",
   "name": "python3"
  },
  "language_info": {
   "codemirror_mode": {
    "name": "ipython",
    "version": 3
   },
   "file_extension": ".py",
   "mimetype": "text/x-python",
   "name": "python",
   "nbconvert_exporter": "python",
   "pygments_lexer": "ipython3",
   "version": "3.12.1"
  }
 },
 "nbformat": 4,
 "nbformat_minor": 2
}
