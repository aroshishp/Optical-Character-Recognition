{
  "cells": [
    {
      "cell_type": "markdown",
      "metadata": {},
      "source": [
        "## Creating a Model to Identify Handwritten Letters\n",
        "This project aims to create a model that can identify handwritten text using the TensorFlow Library"
      ]
    },
    {
      "cell_type": "markdown",
      "metadata": {},
      "source": [
        "### Import Libraries"
      ]
    },
    {
      "cell_type": "code",
      "execution_count": null,
      "metadata": {
        "id": "0HRVde1Qesjb"
      },
      "outputs": [],
      "source": [
        "import pandas as pd\n",
        "import numpy as np\n",
        "import os\n",
        "from sklearn.model_selection import train_test_split\n",
        "from tensorflow.keras.preprocessing.image import load_img, img_to_array\n",
        "from tensorflow.keras.utils import to_categorical\n",
        "from tensorflow.keras.models import Sequential\n",
        "from tensorflow.keras.layers import Conv2D, MaxPooling2D, Flatten, Dense, Dropout\n",
        "from tensorflow.keras.optimizers import Adam"
      ]
    },
    {
      "cell_type": "markdown",
      "metadata": {},
      "source": [
        "### Load and Preprocess the Dataset"
      ]
    },
    {
      "cell_type": "code",
      "execution_count": null,
      "metadata": {
        "id": "kCooMhfsdkPg"
      },
      "outputs": [],
      "source": [
        "IMAGE_SIZE = (32, 32)\n",
        "DATA_DIR = './Desktop/Sci-Tech/Epoch/datasets/alphabets_dataset/alphabet_images'\n",
        "CSV_FILE = './Desktop/Sci-Tech/Epoch/datasets/alphabets_dataset/alphabet_labels.csv'\n",
        "\n",
        "df = pd.read_csv(CSV_FILE)\n",
        "\n",
        "def load_and_preprocess_image(file_path):\n",
        "    img = load_img(file_path, target_size=IMAGE_SIZE, color_mode='grayscale')\n",
        "    img_array = img_to_array(img)\n",
        "    img_array /= 255.0\n",
        "    return img_array\n",
        "\n",
        "images = []\n",
        "labels = []\n",
        "for index, row in df.iterrows():\n",
        "    file_path = os.path.join(DATA_DIR, row['file'])\n",
        "    img_array = load_and_preprocess_image(file_path)\n",
        "    images.append(img_array)\n",
        "    labels.append(row['label'])\n",
        "\n",
        "images = np.array(images)\n",
        "labels = np.array(labels)\n",
        "\n",
        "# A-Z for 0-25\n",
        "label_mapping = {chr(i + 65): i for i in range(26)}\n",
        "labels = np.array([label_mapping[label] for label in labels])\n",
        "\n",
        "labels = to_categorical(labels, num_classes=26)\n"
      ]
    },
    {
      "cell_type": "markdown",
      "metadata": {},
      "source": [
        "### Split Dataset"
      ]
    },
    {
      "cell_type": "code",
      "execution_count": null,
      "metadata": {
        "id": "VDdio1nMjjLq"
      },
      "outputs": [],
      "source": [
        "X_train, X_val, y_train, y_val = train_test_split(images, labels, test_size=0.2, random_state=42)\n"
      ]
    },
    {
      "cell_type": "markdown",
      "metadata": {},
      "source": [
        "### Build the model"
      ]
    },
    {
      "cell_type": "code",
      "execution_count": null,
      "metadata": {
        "colab": {
          "base_uri": "https://localhost:8080/"
        },
        "id": "oZIras0-n_Fx",
        "outputId": "cd0fdab4-2135-4949-d8b6-d40e7f1d4bca"
      },
      "outputs": [
        {
          "name": "stderr",
          "output_type": "stream",
          "text": [
            "C:\\Users\\Aroshish\\anaconda3\\Lib\\site-packages\\keras\\src\\layers\\convolutional\\base_conv.py:107: UserWarning: Do not pass an `input_shape`/`input_dim` argument to a layer. When using Sequential models, prefer using an `Input(shape)` object as the first layer in the model instead.\n",
            "  super().__init__(activity_regularizer=activity_regularizer, **kwargs)\n"
          ]
        }
      ],
      "source": [
        "model = Sequential([\n",
        "    Conv2D(32, (3, 3), activation='relu', input_shape=(IMAGE_SIZE[0], IMAGE_SIZE[1], 1)),\n",
        "    MaxPooling2D((2, 2)),\n",
        "    Dropout(0.25),\n",
        "    Conv2D(64, (3, 3), activation='relu'),\n",
        "    MaxPooling2D((2, 2)),\n",
        "    Dropout(0.25),\n",
        "    Flatten(),\n",
        "    Dense(128, activation='relu'),\n",
        "    Dropout(0.5),\n",
        "    Dense(26, activation='softmax')\n",
        "])\n",
        "\n",
        "model.compile(optimizer=Adam(), loss='categorical_crossentropy', metrics=['accuracy'])\n"
      ]
    },
    {
      "cell_type": "markdown",
      "metadata": {},
      "source": [
        "### Train the Model"
      ]
    },
    {
      "cell_type": "code",
      "execution_count": null,
      "metadata": {
        "colab": {
          "base_uri": "https://localhost:8080/"
        },
        "id": "3CQ3RP2xoFfm",
        "outputId": "ba990e46-be4a-4c53-ce1b-7247d45f2903"
      },
      "outputs": [
        {
          "name": "stdout",
          "output_type": "stream",
          "text": [
            "Epoch 1/20\n",
            "\u001b[1m4656/4656\u001b[0m \u001b[32m━━━━━━━━━━━━━━━━━━━━\u001b[0m\u001b[37m\u001b[0m \u001b[1m150s\u001b[0m 32ms/step - accuracy: 0.9815 - loss: 0.0628 - val_accuracy: 0.9913 - val_loss: 0.0331\n",
            "Epoch 2/20\n",
            "\u001b[1m4656/4656\u001b[0m \u001b[32m━━━━━━━━━━━━━━━━━━━━\u001b[0m\u001b[37m\u001b[0m \u001b[1m147s\u001b[0m 32ms/step - accuracy: 0.9815 - loss: 0.0620 - val_accuracy: 0.9915 - val_loss: 0.0331\n",
            "Epoch 3/20\n",
            "\u001b[1m4656/4656\u001b[0m \u001b[32m━━━━━━━━━━━━━━━━━━━━\u001b[0m\u001b[37m\u001b[0m \u001b[1m148s\u001b[0m 32ms/step - accuracy: 0.9818 - loss: 0.0618 - val_accuracy: 0.9912 - val_loss: 0.0323\n",
            "Epoch 4/20\n",
            "\u001b[1m4656/4656\u001b[0m \u001b[32m━━━━━━━━━━━━━━━━━━━━\u001b[0m\u001b[37m\u001b[0m \u001b[1m153s\u001b[0m 33ms/step - accuracy: 0.9822 - loss: 0.0613 - val_accuracy: 0.9916 - val_loss: 0.0308\n",
            "Epoch 5/20\n",
            "\u001b[1m4656/4656\u001b[0m \u001b[32m━━━━━━━━━━━━━━━━━━━━\u001b[0m\u001b[37m\u001b[0m \u001b[1m210s\u001b[0m 35ms/step - accuracy: 0.9824 - loss: 0.0604 - val_accuracy: 0.9911 - val_loss: 0.0329\n",
            "Epoch 6/20\n",
            "\u001b[1m4656/4656\u001b[0m \u001b[32m━━━━━━━━━━━━━━━━━━━━\u001b[0m\u001b[37m\u001b[0m \u001b[1m167s\u001b[0m 36ms/step - accuracy: 0.9821 - loss: 0.0603 - val_accuracy: 0.9919 - val_loss: 0.0312\n",
            "Epoch 7/20\n",
            "\u001b[1m4656/4656\u001b[0m \u001b[32m━━━━━━━━━━━━━━━━━━━━\u001b[0m\u001b[37m\u001b[0m \u001b[1m174s\u001b[0m 37ms/step - accuracy: 0.9824 - loss: 0.0603 - val_accuracy: 0.9920 - val_loss: 0.0301\n",
            "Epoch 8/20\n",
            "\u001b[1m4656/4656\u001b[0m \u001b[32m━━━━━━━━━━━━━━━━━━━━\u001b[0m\u001b[37m\u001b[0m \u001b[1m178s\u001b[0m 38ms/step - accuracy: 0.9822 - loss: 0.0602 - val_accuracy: 0.9915 - val_loss: 0.0309\n",
            "Epoch 9/20\n",
            "\u001b[1m4656/4656\u001b[0m \u001b[32m━━━━━━━━━━━━━━━━━━━━\u001b[0m\u001b[37m\u001b[0m \u001b[1m179s\u001b[0m 38ms/step - accuracy: 0.9821 - loss: 0.0610 - val_accuracy: 0.9920 - val_loss: 0.0307\n",
            "Epoch 10/20\n",
            "\u001b[1m4656/4656\u001b[0m \u001b[32m━━━━━━━━━━━━━━━━━━━━\u001b[0m\u001b[37m\u001b[0m \u001b[1m174s\u001b[0m 37ms/step - accuracy: 0.9832 - loss: 0.0575 - val_accuracy: 0.9917 - val_loss: 0.0292\n",
            "Epoch 11/20\n",
            "\u001b[1m4656/4656\u001b[0m \u001b[32m━━━━━━━━━━━━━━━━━━━━\u001b[0m\u001b[37m\u001b[0m \u001b[1m169s\u001b[0m 36ms/step - accuracy: 0.9824 - loss: 0.0596 - val_accuracy: 0.9923 - val_loss: 0.0303\n",
            "Epoch 12/20\n",
            "\u001b[1m4656/4656\u001b[0m \u001b[32m━━━━━━━━━━━━━━━━━━━━\u001b[0m\u001b[37m\u001b[0m \u001b[1m157s\u001b[0m 34ms/step - accuracy: 0.9824 - loss: 0.0596 - val_accuracy: 0.9917 - val_loss: 0.0302\n",
            "Epoch 13/20\n",
            "\u001b[1m4656/4656\u001b[0m \u001b[32m━━━━━━━━━━━━━━━━━━━━\u001b[0m\u001b[37m\u001b[0m \u001b[1m158s\u001b[0m 34ms/step - accuracy: 0.9825 - loss: 0.0592 - val_accuracy: 0.9926 - val_loss: 0.0285\n",
            "Epoch 14/20\n",
            "\u001b[1m4656/4656\u001b[0m \u001b[32m━━━━━━━━━━━━━━━━━━━━\u001b[0m\u001b[37m\u001b[0m \u001b[1m148s\u001b[0m 32ms/step - accuracy: 0.9823 - loss: 0.0594 - val_accuracy: 0.9921 - val_loss: 0.0319\n",
            "Epoch 15/20\n",
            "\u001b[1m4656/4656\u001b[0m \u001b[32m━━━━━━━━━━━━━━━━━━━━\u001b[0m\u001b[37m\u001b[0m \u001b[1m157s\u001b[0m 34ms/step - accuracy: 0.9826 - loss: 0.0583 - val_accuracy: 0.9924 - val_loss: 0.0292\n",
            "Epoch 16/20\n",
            "\u001b[1m4656/4656\u001b[0m \u001b[32m━━━━━━━━━━━━━━━━━━━━\u001b[0m\u001b[37m\u001b[0m \u001b[1m158s\u001b[0m 34ms/step - accuracy: 0.9833 - loss: 0.0581 - val_accuracy: 0.9925 - val_loss: 0.0287\n",
            "Epoch 17/20\n",
            "\u001b[1m4656/4656\u001b[0m \u001b[32m━━━━━━━━━━━━━━━━━━━━\u001b[0m\u001b[37m\u001b[0m \u001b[1m151s\u001b[0m 32ms/step - accuracy: 0.9833 - loss: 0.0572 - val_accuracy: 0.9926 - val_loss: 0.0290\n",
            "Epoch 18/20\n",
            "\u001b[1m4656/4656\u001b[0m \u001b[32m━━━━━━━━━━━━━━━━━━━━\u001b[0m\u001b[37m\u001b[0m \u001b[1m150s\u001b[0m 32ms/step - accuracy: 0.9830 - loss: 0.0582 - val_accuracy: 0.9927 - val_loss: 0.0308\n",
            "Epoch 19/20\n",
            "\u001b[1m4656/4656\u001b[0m \u001b[32m━━━━━━━━━━━━━━━━━━━━\u001b[0m\u001b[37m\u001b[0m \u001b[1m152s\u001b[0m 33ms/step - accuracy: 0.9829 - loss: 0.0579 - val_accuracy: 0.9921 - val_loss: 0.0295\n",
            "Epoch 20/20\n",
            "\u001b[1m4656/4656\u001b[0m \u001b[32m━━━━━━━━━━━━━━━━━━━━\u001b[0m\u001b[37m\u001b[0m \u001b[1m156s\u001b[0m 33ms/step - accuracy: 0.9829 - loss: 0.0570 - val_accuracy: 0.9924 - val_loss: 0.0284\n"
          ]
        }
      ],
      "source": [
        "history = model.fit(X_train, y_train, epochs=20, batch_size=64, validation_data=(X_val, y_val))\n"
      ]
    },
    {
      "cell_type": "markdown",
      "metadata": {},
      "source": [
        "### Evaulation Metrics"
      ]
    },
    {
      "cell_type": "code",
      "execution_count": null,
      "metadata": {
        "colab": {
          "base_uri": "https://localhost:8080/"
        },
        "id": "7t-OeslnC_hS",
        "outputId": "45e54963-4e18-4c57-b6ce-4682e4b59349"
      },
      "outputs": [
        {
          "name": "stdout",
          "output_type": "stream",
          "text": [
            "\u001b[1m2328/2328\u001b[0m \u001b[32m━━━━━━━━━━━━━━━━━━━━\u001b[0m\u001b[37m\u001b[0m \u001b[1m14s\u001b[0m 6ms/step - accuracy: 0.9919 - loss: 0.0291\n",
            "Validation Loss: 0.028448715806007385\n",
            "Validation Accuracy: 0.9924017786979675\n"
          ]
        }
      ],
      "source": [
        "val_loss, val_accuracy = model.evaluate(X_val, y_val)\n",
        "print(f'Validation Loss: {val_loss}')\n",
        "print(f'Validation Accuracy: {val_accuracy}')\n"
      ]
    },
    {
      "cell_type": "markdown",
      "metadata": {},
      "source": [
        "### Save the Model"
      ]
    },
    {
      "cell_type": "code",
      "execution_count": null,
      "metadata": {
        "colab": {
          "base_uri": "https://localhost:8080/"
        },
        "id": "o161jORfmea2",
        "outputId": "3698c03a-96c2-48c0-d630-429ba259983a"
      },
      "outputs": [
        {
          "name": "stderr",
          "output_type": "stream",
          "text": [
            "WARNING:absl:You are saving your model as an HDF5 file via `model.save()` or `keras.saving.save_model(model)`. This file format is considered legacy. We recommend using instead the native Keras format, e.g. `model.save('my_model.keras')` or `keras.saving.save_model(model, 'my_model.keras')`. \n"
          ]
        }
      ],
      "source": [
        "model.save('handwritten_text_recognition_model.h5')"
      ]
    }
  ],
  "metadata": {
    "accelerator": "GPU",
    "colab": {
      "gpuType": "T4",
      "provenance": []
    },
    "kernelspec": {
      "display_name": "Python 3",
      "name": "python3"
    },
    "language_info": {
      "name": "python"
    }
  },
  "nbformat": 4,
  "nbformat_minor": 0
}
