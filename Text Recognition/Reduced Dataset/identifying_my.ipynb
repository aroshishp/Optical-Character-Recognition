{
 "cells": [
  {
   "cell_type": "code",
   "execution_count": 1,
   "metadata": {},
   "outputs": [
    {
     "name": "stderr",
     "output_type": "stream",
     "text": [
      "WARNING:absl:Compiled the loaded model, but the compiled metrics have yet to be built. `model.compile_metrics` will be empty until you train or evaluate the model.\n"
     ]
    }
   ],
   "source": [
    "from tensorflow.keras.models import load_model\n",
    "\n",
    "model = load_model('my_trained_model.h5')"
   ]
  },
  {
   "cell_type": "code",
   "execution_count": 2,
   "metadata": {},
   "outputs": [],
   "source": [
    "import tensorflow as tf\n",
    "import numpy as np\n",
    "from tensorflow.keras.preprocessing.image import load_img, img_to_array\n",
    "\n",
    "IMAGE_SIZE = (32, 32)"
   ]
  },
  {
   "cell_type": "code",
   "execution_count": 3,
   "metadata": {},
   "outputs": [],
   "source": [
    "def read_image(image_path, model):\n",
    "    img = load_img(image_path, target_size = IMAGE_SIZE, color_mode='grayscale')\n",
    "    img = img_to_array(img)\n",
    "    img /= 255.0\n",
    "    img = np.expand_dims(img, axis = 0)\n",
    "    \n",
    "    predictions = model.predict(img)\n",
    "    predicted_index = np.argmax(predictions, axis = 1)\n",
    "    \n",
    "    label_mapping = {i : chr(i + 65) for i in np.arange(26)}\n",
    "    predicted_letter = label_mapping[predicted_index[0]]\n",
    "\n",
    "    return predicted_letter"
   ]
  },
  {
   "cell_type": "code",
   "execution_count": 5,
   "metadata": {},
   "outputs": [
    {
     "name": "stdout",
     "output_type": "stream",
     "text": [
      "\u001b[1m1/1\u001b[0m \u001b[32m━━━━━━━━━━━━━━━━━━━━\u001b[0m\u001b[37m\u001b[0m \u001b[1m1s\u001b[0m 563ms/step\n",
      "The predicted letter is: M\n"
     ]
    }
   ],
   "source": [
    "image_path = '../Complete Dataset/test7.jpg'\n",
    "\n",
    "predicted_letter = read_image(image_path, model)\n",
    "print(f'The predicted letter is: {predicted_letter}')"
   ]
  }
 ],
 "metadata": {
  "kernelspec": {
   "display_name": "Python 3",
   "language": "python",
   "name": "python3"
  },
  "language_info": {
   "codemirror_mode": {
    "name": "ipython",
    "version": 3
   },
   "file_extension": ".py",
   "mimetype": "text/x-python",
   "name": "python",
   "nbconvert_exporter": "python",
   "pygments_lexer": "ipython3",
   "version": "3.12.4"
  }
 },
 "nbformat": 4,
 "nbformat_minor": 2
}
